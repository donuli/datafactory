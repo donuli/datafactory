{
 "cells": [
  {
   "cell_type": "code",
   "execution_count": 2,
   "metadata": {},
   "outputs": [
    {
     "name": "stdout",
     "output_type": "stream",
     "text": [
      "Saved frame number : 100\n",
      "Saved frame0.jpg\n",
      "Saved frame number : 200\n",
      "Saved frame1.jpg\n",
      "Saved frame number : 300\n",
      "Saved frame2.jpg\n",
      "Saved frame number : 400\n",
      "Saved frame3.jpg\n",
      "Saved frame number : 500\n",
      "Saved frame4.jpg\n",
      "Saved frame number : 600\n",
      "Saved frame5.jpg\n",
      "Saved frame number : 700\n",
      "Saved frame6.jpg\n",
      "Saved frame number : 800\n",
      "Saved frame7.jpg\n",
      "Saved frame number : 900\n",
      "Saved frame8.jpg\n",
      "Saved frame number : 1000\n",
      "Saved frame9.jpg\n",
      "Saved frame number : 1100\n",
      "Saved frame10.jpg\n",
      "Saved frame number : 1200\n",
      "Saved frame11.jpg\n",
      "Saved frame number : 1300\n",
      "Saved frame12.jpg\n",
      "Saved frame number : 1400\n",
      "Saved frame13.jpg\n",
      "Saved frame number : 1500\n",
      "Saved frame14.jpg\n",
      "Saved frame number : 1600\n",
      "Saved frame15.jpg\n",
      "Saved frame number : 1700\n",
      "Saved frame16.jpg\n",
      "Saved frame number : 1800\n",
      "Saved frame17.jpg\n",
      "Saved frame number : 1900\n",
      "Saved frame18.jpg\n",
      "Saved frame number : 2000\n",
      "Saved frame19.jpg\n",
      "Saved frame number : 2100\n",
      "Saved frame20.jpg\n",
      "Saved frame number : 2200\n",
      "Saved frame21.jpg\n",
      "Saved frame number : 2300\n",
      "Saved frame22.jpg\n",
      "Saved frame number : 2400\n",
      "Saved frame23.jpg\n",
      "Saved frame number : 2500\n",
      "Saved frame24.jpg\n",
      "Saved frame number : 2600\n",
      "Saved frame25.jpg\n",
      "Saved frame number : 2700\n",
      "Saved frame26.jpg\n",
      "Saved frame number : 2800\n",
      "Saved frame27.jpg\n",
      "Saved frame number : 2900\n",
      "Saved frame28.jpg\n",
      "Saved frame number : 3000\n",
      "Saved frame29.jpg\n",
      "Saved frame number : 3100\n",
      "Saved frame30.jpg\n",
      "Saved frame number : 3200\n",
      "Saved frame31.jpg\n",
      "Saved frame number : 3300\n",
      "Saved frame32.jpg\n",
      "Saved frame number : 3400\n",
      "Saved frame33.jpg\n",
      "Saved frame number : 3500\n",
      "Saved frame34.jpg\n",
      "Saved frame number : 3600\n",
      "Saved frame35.jpg\n",
      "Saved frame number : 3700\n",
      "Saved frame36.jpg\n",
      "Saved frame number : 3800\n",
      "Saved frame37.jpg\n",
      "Saved frame number : 3900\n",
      "Saved frame38.jpg\n",
      "Saved frame number : 4000\n",
      "Saved frame39.jpg\n",
      "Saved frame number : 4100\n",
      "Saved frame40.jpg\n",
      "Saved frame number : 4200\n",
      "Saved frame41.jpg\n",
      "Saved frame number : 4300\n",
      "Saved frame42.jpg\n",
      "Saved frame number : 4400\n",
      "Saved frame43.jpg\n",
      "Saved frame number : 4500\n",
      "Saved frame44.jpg\n"
     ]
    },
    {
     "ename": "KeyboardInterrupt",
     "evalue": "",
     "output_type": "error",
     "traceback": [
      "\u001b[0;31m\u001b[0m",
      "\u001b[0;31mKeyboardInterrupt\u001b[0mTraceback (most recent call last)",
      "\u001b[0;32m<ipython-input-2-456212d7bc12>\u001b[0m in \u001b[0;36m<module>\u001b[0;34m\u001b[0m\n\u001b[1;32m     10\u001b[0m     \u001b[0;31m# 두 함수를 동시에 불러오는 이유는 프레임이 존재하지 않을 때\u001b[0m\u001b[0;34m\u001b[0m\u001b[0;34m\u001b[0m\u001b[0;34m\u001b[0m\u001b[0m\n\u001b[1;32m     11\u001b[0m     \u001b[0;31m# grab() 함수를 이용하여 return false 혹은 NULL 값을 넘겨 주기 때문\u001b[0m\u001b[0;34m\u001b[0m\u001b[0;34m\u001b[0m\u001b[0;34m\u001b[0m\u001b[0m\n\u001b[0;32m---> 12\u001b[0;31m     \u001b[0mret\u001b[0m\u001b[0;34m,\u001b[0m \u001b[0mimage\u001b[0m \u001b[0;34m=\u001b[0m \u001b[0mvidcap\u001b[0m\u001b[0;34m.\u001b[0m\u001b[0mread\u001b[0m\u001b[0;34m(\u001b[0m\u001b[0;34m)\u001b[0m\u001b[0;34m\u001b[0m\u001b[0;34m\u001b[0m\u001b[0m\n\u001b[0m\u001b[1;32m     13\u001b[0m \u001b[0;34m\u001b[0m\u001b[0m\n\u001b[1;32m     14\u001b[0m     \u001b[0;32mif\u001b[0m\u001b[0;34m(\u001b[0m\u001b[0mint\u001b[0m\u001b[0;34m(\u001b[0m\u001b[0mvidcap\u001b[0m\u001b[0;34m.\u001b[0m\u001b[0mget\u001b[0m\u001b[0;34m(\u001b[0m\u001b[0;36m1\u001b[0m\u001b[0;34m)\u001b[0m\u001b[0;34m)\u001b[0m \u001b[0;34m%\u001b[0m \u001b[0;36m100\u001b[0m \u001b[0;34m==\u001b[0m \u001b[0;36m0\u001b[0m\u001b[0;34m)\u001b[0m\u001b[0;34m:\u001b[0m\u001b[0;34m\u001b[0m\u001b[0;34m\u001b[0m\u001b[0m\n",
      "\u001b[0;31mKeyboardInterrupt\u001b[0m: "
     ]
    }
   ],
   "source": [
    "import cv2\n",
    " \n",
    "# 영상의 의미지를 연속적으로 캡쳐할 수 있게 하는 class\n",
    "vidcap = cv2.VideoCapture('pig_test.mp4')\n",
    " \n",
    "count = 1\n",
    " \n",
    "while(vidcap.isOpened()):\n",
    "    # read()는 grab()와 retrieve() 두 함수를 한 함수로 불러옴\n",
    "    # 두 함수를 동시에 불러오는 이유는 프레임이 존재하지 않을 때\n",
    "    # grab() 함수를 이용하여 return false 혹은 NULL 값을 넘겨 주기 때문\n",
    "    ret, image = vidcap.read()\n",
    " \n",
    "    if(int(vidcap.get(1)) % 100 == 0):\n",
    "        print('Saved frame number : ' + str(int(vidcap.get(1))))\n",
    "        cv2.imwrite(\"./pig_images/pig_image_%d.jpg\" % count, image)\n",
    "        print('Saved frame%d.jpg' % count)\n",
    "        count += 1"
   ]
  },
  {
   "cell_type": "code",
   "execution_count": 9,
   "metadata": {},
   "outputs": [
    {
     "name": "stdout",
     "output_type": "stream",
     "text": [
      "None\n"
     ]
    }
   ],
   "source": [
    "print(image)"
   ]
  },
  {
   "cell_type": "code",
   "execution_count": null,
   "metadata": {},
   "outputs": [],
   "source": []
  }
 ],
 "metadata": {
  "kernelspec": {
   "display_name": "Python 3",
   "language": "python",
   "name": "python3"
  },
  "language_info": {
   "codemirror_mode": {
    "name": "ipython",
    "version": 3
   },
   "file_extension": ".py",
   "mimetype": "text/x-python",
   "name": "python",
   "nbconvert_exporter": "python",
   "pygments_lexer": "ipython3",
   "version": "3.8.6"
  }
 },
 "nbformat": 4,
 "nbformat_minor": 4
}
