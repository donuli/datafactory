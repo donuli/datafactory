{
 "cells": [
  {
   "cell_type": "code",
   "execution_count": 21,
   "metadata": {},
   "outputs": [],
   "source": [
    "import cv2\n",
    "import os"
   ]
  },
  {
   "cell_type": "code",
   "execution_count": 22,
   "metadata": {},
   "outputs": [
    {
     "name": "stdout",
     "output_type": "stream",
     "text": [
      "pig_images/pig_image_8.jpg\n",
      "pig_images/pig_image_22.jpg\n",
      "pig_images/pig_image_33.jpg\n",
      "pig_images/pig_image_24.jpg\n",
      "pig_images/pig_image_32.jpg\n",
      "pig_images/pig_image_11.jpg\n",
      "pig_images/pig_image_27.jpg\n",
      "pig_images/pig_image_38.jpg\n",
      "pig_images/pig_image_6.jpg\n",
      "pig_images/pig_image_42.jpg\n",
      "pig_images/pig_image_13.jpg\n",
      "pig_images/pig_image_1.jpg\n",
      "pig_images/pig_image_21.jpg\n",
      "pig_images/pig_image_10.jpg\n",
      "pig_images/pig_image_15.jpg\n",
      "pig_images/pig_image_36.jpg\n",
      "pig_images/pig_image_14.jpg\n",
      "pig_images/pig_image_7.jpg\n",
      "pig_images/pig_image_29.jpg\n",
      "pig_images/pig_image_40.jpg\n",
      "pig_images/pig_image_18.jpg\n",
      "pig_images/pig_image_39.jpg\n",
      "pig_images/pig_image_16.jpg\n",
      "pig_images/pig_image_0.jpg\n",
      "pig_images/pig_image_44.jpg\n",
      "pig_images/pig_image_26.jpg\n",
      "pig_images/pig_image_3.jpg\n",
      "pig_images/pig_image_31.jpg\n",
      "pig_images/pig_image_17.jpg\n",
      "pig_images/pig_image_4.jpg\n",
      "pig_images/pig_image_5.jpg\n",
      "pig_images/pig_image_41.jpg\n",
      "pig_images/pig_image_25.jpg\n",
      "pig_images/pig_image_12.jpg\n",
      "pig_images/pig_image_2.jpg\n",
      "pig_images/pig_image_37.jpg\n",
      "pig_images/pig_image_19.jpg\n",
      "pig_images/pig_image_20.jpg\n",
      "pig_images/pig_image_30.jpg\n",
      "pig_images/pig_image_43.jpg\n",
      "pig_images/pig_image_34.jpg\n",
      "pig_images/pig_image_28.jpg\n",
      "pig_images/pig_image_23.jpg\n",
      "pig_images/pig_image_35.jpg\n",
      "pig_images/pig_image_9.jpg\n"
     ]
    }
   ],
   "source": [
    "files = os.listdir(\"pig_images/\")\n",
    "for file in files:\n",
    "    print(\"pig_images/\"+file)"
   ]
  },
  {
   "cell_type": "code",
   "execution_count": 23,
   "metadata": {},
   "outputs": [],
   "source": [
    "count=1\n",
    "for file in files:\n",
    "    img = cv2.imread(\"pig_images/\"+file, cv2.IMREAD_COLOR)\n",
    "    resize_img = cv2.resize(img, (224, 224))\n",
    "    cv2.imwrite(\"pig_images_resize/pig_image_resize_%d.jpg\" %count, resize_img)\n",
    "    count += 1"
   ]
  },
  {
   "cell_type": "code",
   "execution_count": null,
   "metadata": {},
   "outputs": [],
   "source": []
  }
 ],
 "metadata": {
  "kernelspec": {
   "display_name": "Python 3",
   "language": "python",
   "name": "python3"
  },
  "language_info": {
   "codemirror_mode": {
    "name": "ipython",
    "version": 3
   },
   "file_extension": ".py",
   "mimetype": "text/x-python",
   "name": "python",
   "nbconvert_exporter": "python",
   "pygments_lexer": "ipython3",
   "version": "3.8.6"
  }
 },
 "nbformat": 4,
 "nbformat_minor": 4
}
