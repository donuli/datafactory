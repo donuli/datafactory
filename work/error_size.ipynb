{
 "cells": [
  {
   "cell_type": "code",
   "execution_count": 29,
   "metadata": {},
   "outputs": [],
   "source": [
    "import os\n",
    "import cv2\n",
    "import csv\n",
    "import json"
   ]
  },
  {
   "cell_type": "code",
   "execution_count": 30,
   "metadata": {},
   "outputs": [],
   "source": [
    "def transtype(files):\n",
    "    new_file = []\n",
    "    for file in files:\n",
    "        x = float(file[1])\n",
    "        y = float(file[2])\n",
    "        width = float(file[3])\n",
    "        height = float(file[4])\n",
    "        new_file.append([file[0], x,y, width, height,file[5]])\n",
    "    return new_file"
   ]
  },
  {
   "cell_type": "code",
   "execution_count": 31,
   "metadata": {},
   "outputs": [],
   "source": [
    "def annotation(categories,images,annotations):\n",
    "    category_id={}\n",
    "    image_id={}\n",
    "    annotation_box=[]\n",
    "    \n",
    "    for category in categories:\n",
    "        category_id[category[\"id\"]]=category[\"name\"]\n",
    "    \n",
    "    for image in images:\n",
    "        image_id[image[\"id\"]]=image[\"file_name\"]\n",
    "    \n",
    "    for annotation in annotations:\n",
    "        category_num = annotation[\"category_id\"]\n",
    "        image_num = annotation[\"image_id\"]\n",
    "        bbox = annotation[\"bbox\"]\n",
    "        attributes = annotation[\"attributes\"]\n",
    "        status = attributes[\"status\"]\n",
    "        annotation_box.append({\"label_name\":category_id[category_num], \"image_name\" : image_id[image_num] , \"bbox\" : bbox, \"status\" : status})\n",
    "    return annotation_box"
   ]
  },
  {
   "cell_type": "code",
   "execution_count": 32,
   "metadata": {},
   "outputs": [],
   "source": [
    "filename = open(\"instances_default.json\", mode='r',encoding='utf-8')\n",
    "json_data = json.load(filename)\n",
    "categories = json_data[\"categories\"]\n",
    "images = json_data[\"images\"]\n",
    "annotations = json_data[\"annotations\"]\n",
    "label_info=[]\n",
    "for i in annotation(categories,images,annotations):\n",
    "    box = i[\"bbox\"]\n",
    "    label_info.append({\"image\": i[\"image_name\"], \"x\":box[0], \"y\":box[1], \"width\":box[2], \"height\":box[3], \"label\":i[\"label_name\"]+\"_\"+i[\"status\"]})"
   ]
  },
  {
   "cell_type": "code",
   "execution_count": 33,
   "metadata": {},
   "outputs": [
    {
     "name": "stdout",
     "output_type": "stream",
     "text": [
      "{'image': 'frame_001890.PNG', 'x': 489.33, 'y': 132.24, 'width': 51.99, 'height': 51.99, 'label': 'pig_lying'}\n",
      "{'image': 'frame_002190.PNG', 'x': 510.48, 'y': 166.52, 'width': 24.72, 'height': 23.78, 'label': 'pig_lying'}\n",
      "{'image': 'frame_002250.PNG', 'x': 228.47, 'y': 89.05, 'width': 332.24, 'height': 565.78, 'label': 'pig_lying'}\n",
      "{'image': 'frame_002490.PNG', 'x': 1053.34, 'y': 71.34, 'width': 33.49, 'height': 26.53, 'label': 'pig_lying'}\n",
      "{'image': 'frame_002550.PNG', 'x': 350.97, 'y': 97.78, 'width': 429.18, 'height': 234.5, 'label': 'pig_lying'}\n",
      "{'image': 'frame_002790.PNG', 'x': 468.18, 'y': 313.78, 'width': 8.81, 'height': 6.96, 'label': 'pig_lying'}\n",
      "{'image': 'frame_002970.PNG', 'x': 1.1, 'y': 2.6, 'width': 1276.08, 'height': 714.8, 'label': 'pig_lying'}\n"
     ]
    }
   ],
   "source": [
    "for i in label_info:\n",
    "    if i['width']>300 or i['width']<70 or i['height']>300 or i['height']<70:\n",
    "        print(i)"
   ]
  },
  {
   "cell_type": "code",
   "execution_count": null,
   "metadata": {},
   "outputs": [],
   "source": []
  }
 ],
 "metadata": {
  "kernelspec": {
   "display_name": "Python 3",
   "language": "python",
   "name": "python3"
  },
  "language_info": {
   "codemirror_mode": {
    "name": "ipython",
    "version": 3
   },
   "file_extension": ".py",
   "mimetype": "text/x-python",
   "name": "python",
   "nbconvert_exporter": "python",
   "pygments_lexer": "ipython3",
   "version": "3.8.6"
  }
 },
 "nbformat": 4,
 "nbformat_minor": 4
}
