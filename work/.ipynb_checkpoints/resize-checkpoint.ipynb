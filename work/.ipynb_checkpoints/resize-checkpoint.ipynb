{
 "cells": [
  {
   "cell_type": "code",
   "execution_count": 3,
   "metadata": {},
   "outputs": [],
   "source": [
    "import cv2\n",
    "import os"
   ]
  },
  {
   "cell_type": "code",
   "execution_count": 16,
   "metadata": {},
   "outputs": [
    {
     "name": "stdout",
     "output_type": "stream",
     "text": [
      "pig_image_8.jpg\n",
      "pig_image_22.jpg\n",
      "pig_image_33.jpg\n",
      "pig_image_24.jpg\n",
      "pig_image_32.jpg\n",
      "pig_image_11.jpg\n",
      "pig_image_27.jpg\n",
      "pig_image_38.jpg\n",
      "pig_image_6.jpg\n",
      "pig_image_42.jpg\n",
      "pig_image_13.jpg\n",
      "pig_image_1.jpg\n",
      "pig_image_21.jpg\n",
      "pig_image_10.jpg\n",
      "pig_image_15.jpg\n",
      "pig_image_36.jpg\n",
      "pig_image_14.jpg\n",
      "pig_image_7.jpg\n",
      "pig_image_29.jpg\n",
      "pig_image_40.jpg\n",
      "pig_image_18.jpg\n",
      "pig_image_39.jpg\n",
      "pig_image_16.jpg\n",
      "pig_image_0.jpg\n",
      ".ipynb_checkpoints\n",
      "pig_image_44.jpg\n",
      "pig_image_26.jpg\n",
      "pig_image_3.jpg\n",
      "pig_image_31.jpg\n",
      "pig_image_17.jpg\n",
      "pig_image_4.jpg\n",
      "pig_image_5.jpg\n",
      "pig_image_41.jpg\n",
      "pig_image_25.jpg\n",
      "pig_image_12.jpg\n",
      "pig_image_2.jpg\n",
      "pig_image_37.jpg\n",
      "pig_image_19.jpg\n",
      "pig_image_20.jpg\n",
      "pig_image_30.jpg\n",
      "pig_image_43.jpg\n",
      "pig_image_34.jpg\n",
      "pig_image_28.jpg\n",
      "pig_image_23.jpg\n",
      "pig_image_35.jpg\n",
      "pig_image_9.jpg\n"
     ]
    }
   ],
   "source": [
    "files = os.listdir(\"pig_images/\")\n",
    "for file in files:\n",
    "    print(file)"
   ]
  },
  {
   "cell_type": "code",
   "execution_count": 18,
   "metadata": {},
   "outputs": [
    {
     "ename": "error",
     "evalue": "OpenCV(4.4.0) /tmp/pip-req-build-99ib2vsi/opencv/modules/imgproc/src/resize.cpp:3929: error: (-215:Assertion failed) !ssize.empty() in function 'resize'\n",
     "output_type": "error",
     "traceback": [
      "\u001b[0;31m\u001b[0m",
      "\u001b[0;31merror\u001b[0mTraceback (most recent call last)",
      "\u001b[0;32m<ipython-input-18-7b44b8f0f549>\u001b[0m in \u001b[0;36m<module>\u001b[0;34m\u001b[0m\n\u001b[1;32m      2\u001b[0m \u001b[0;32mfor\u001b[0m \u001b[0mfile\u001b[0m \u001b[0;32min\u001b[0m \u001b[0mfiles\u001b[0m\u001b[0;34m:\u001b[0m\u001b[0;34m\u001b[0m\u001b[0;34m\u001b[0m\u001b[0m\n\u001b[1;32m      3\u001b[0m     \u001b[0mimg\u001b[0m \u001b[0;34m=\u001b[0m \u001b[0mcv2\u001b[0m\u001b[0;34m.\u001b[0m\u001b[0mimread\u001b[0m\u001b[0;34m(\u001b[0m\u001b[0;34m\"pig_images/{file}\"\u001b[0m\u001b[0;34m,\u001b[0m \u001b[0mcv2\u001b[0m\u001b[0;34m.\u001b[0m\u001b[0mIMREAD_COLOR\u001b[0m\u001b[0;34m)\u001b[0m\u001b[0;34m\u001b[0m\u001b[0;34m\u001b[0m\u001b[0m\n\u001b[0;32m----> 4\u001b[0;31m     \u001b[0mresize_img\u001b[0m \u001b[0;34m=\u001b[0m \u001b[0mcv2\u001b[0m\u001b[0;34m.\u001b[0m\u001b[0mresize\u001b[0m\u001b[0;34m(\u001b[0m\u001b[0mimg\u001b[0m\u001b[0;34m,\u001b[0m \u001b[0;34m(\u001b[0m\u001b[0;36m224\u001b[0m\u001b[0;34m,\u001b[0m \u001b[0;36m224\u001b[0m\u001b[0;34m)\u001b[0m\u001b[0;34m)\u001b[0m\u001b[0;34m\u001b[0m\u001b[0;34m\u001b[0m\u001b[0m\n\u001b[0m\u001b[1;32m      5\u001b[0m     \u001b[0mcv2\u001b[0m\u001b[0;34m.\u001b[0m\u001b[0mimwrite\u001b[0m\u001b[0;34m(\u001b[0m\u001b[0;34m\"pig_images_resize/pig_image_resize_%d.jpg\"\u001b[0m \u001b[0;34m%\u001b[0m\u001b[0mcount\u001b[0m\u001b[0;34m,\u001b[0m \u001b[0mresize_img\u001b[0m\u001b[0;34m)\u001b[0m\u001b[0;34m\u001b[0m\u001b[0;34m\u001b[0m\u001b[0m\n\u001b[1;32m      6\u001b[0m     \u001b[0mcount\u001b[0m \u001b[0;34m+=\u001b[0m \u001b[0;36m1\u001b[0m\u001b[0;34m\u001b[0m\u001b[0;34m\u001b[0m\u001b[0m\n",
      "\u001b[0;31merror\u001b[0m: OpenCV(4.4.0) /tmp/pip-req-build-99ib2vsi/opencv/modules/imgproc/src/resize.cpp:3929: error: (-215:Assertion failed) !ssize.empty() in function 'resize'\n"
     ]
    }
   ],
   "source": [
    "count=1\n",
    "for file in files:\n",
    "    img = cv2.imread(\"pig_images/\"+file, cv2.IMREAD_COLOR)\n",
    "    resize_img = cv2.resize(img, (224, 224))\n",
    "    cv2.imwrite(\"pig_images_resize/pig_image_resize_%d.jpg\" %count, resize_img)\n",
    "    count += 1"
   ]
  },
  {
   "cell_type": "code",
   "execution_count": null,
   "metadata": {},
   "outputs": [],
   "source": []
  }
 ],
 "metadata": {
  "kernelspec": {
   "display_name": "Python 3",
   "language": "python",
   "name": "python3"
  },
  "language_info": {
   "codemirror_mode": {
    "name": "ipython",
    "version": 3
   },
   "file_extension": ".py",
   "mimetype": "text/x-python",
   "name": "python",
   "nbconvert_exporter": "python",
   "pygments_lexer": "ipython3",
   "version": "3.8.6"
  }
 },
 "nbformat": 4,
 "nbformat_minor": 4
}
