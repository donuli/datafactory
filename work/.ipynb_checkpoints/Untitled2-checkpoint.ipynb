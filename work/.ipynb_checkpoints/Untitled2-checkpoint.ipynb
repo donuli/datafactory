{
 "cells": [
  {
   "cell_type": "code",
   "execution_count": 4,
   "metadata": {},
   "outputs": [
    {
     "data": {
      "text/plain": [
       "[3, 15, 20, 22, 24, 41, 11]"
      ]
     },
     "execution_count": 4,
     "metadata": {},
     "output_type": "execute_result"
    }
   ],
   "source": [
    "import numpy as np\n",
    "import pandas as pd\n",
    "import requests\n",
    "import sys\n",
    "import bs4\n",
    "import re\n",
    "import urllib.request\n",
    "\n",
    "search_url = \"https://dhlottery.co.kr/gameResult.do?method=byWin&drwNo={page}\"\n",
    "\n",
    "def get_last_page(url):\n",
    "  result = requests.get(url)\n",
    "  soup = BeautifulSoup(result.text, \"html.parser\")\n",
    "  pages = soup.find(\"div\",{\"class\":\"s-pagination\"}).find_all(\"a\")\n",
    "  last_page = pages[-2].get_text(strip=True)\n",
    "  return int(last_page)\n",
    "\n",
    "def one_lotto_number(page):\n",
    "    response = urllib.request.urlopen(search_url.format(page=page))\n",
    "    lotto_data = response.read()\n",
    "    \n",
    "    soup = bs4.BeautifulSoup(lotto_data)\n",
    "    ret = []\n",
    "    newret = []\n",
    "    for winnums in soup.findAll('div', attrs={'class': 'nums'}):\n",
    "        winnum = winnums.findAll('span')\n",
    "        ret.append(winnum)\n",
    "    ret = ret[0]\n",
    "    for i in ret:\n",
    "        string = str(i)\n",
    "        onlynum =  re.sub('<.+?>','', string, 0, re.I|re.S)\n",
    "        newret.append(onlynum)\n",
    "        newret = list(map(int, newret))\n",
    "    return newret\n",
    "\n",
    "\n",
    "one_lotto_number(get_last_page(url))"
   ]
  },
  {
   "cell_type": "code",
   "execution_count": null,
   "metadata": {},
   "outputs": [],
   "source": []
  }
 ],
 "metadata": {
  "kernelspec": {
   "display_name": "Python 3",
   "language": "python",
   "name": "python3"
  },
  "language_info": {
   "codemirror_mode": {
    "name": "ipython",
    "version": 3
   },
   "file_extension": ".py",
   "mimetype": "text/x-python",
   "name": "python",
   "nbconvert_exporter": "python",
   "pygments_lexer": "ipython3",
   "version": "3.8.6"
  }
 },
 "nbformat": 4,
 "nbformat_minor": 4
}
